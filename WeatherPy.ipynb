{
 "cells": [
  {
   "cell_type": "code",
   "execution_count": 32,
   "metadata": {
    "collapsed": true
   },
   "outputs": [],
   "source": [
    "# Import the dependencies\n",
    "import pandas as pd\n",
    "import matplotlib.pyplot as plt\n",
    "import numpy as np\n",
    "from citipy import citipy\n"
   ]
  },
  {
   "cell_type": "code",
   "execution_count": 60,
   "outputs": [],
   "source": [
    "# Create a set of random latitudes and longitude combinations\n",
    "lats = np.random.uniform(-90.000,90.000,1500)\n",
    "longs = np.random.uniform(-180.000,180.000,1500)"
   ],
   "metadata": {
    "collapsed": false,
    "pycharm": {
     "name": "#%%\n"
    }
   }
  },
  {
   "cell_type": "code",
   "execution_count": 61,
   "outputs": [
    {
     "data": {
      "text/plain": "<zip at 0x2797f6b3c00>"
     },
     "execution_count": 61,
     "metadata": {},
     "output_type": "execute_result"
    }
   ],
   "source": [
    "# Combine both arrays\n",
    "lats_longs = zip(lats,longs)\n",
    "lats_longs\n"
   ],
   "metadata": {
    "collapsed": false,
    "pycharm": {
     "name": "#%%\n"
    }
   }
  },
  {
   "cell_type": "code",
   "execution_count": 62,
   "outputs": [],
   "source": [
    "# Add the latitudes and longitudes to a list.\n",
    "coordinates = list(lats_longs)\n"
   ],
   "metadata": {
    "collapsed": false,
    "pycharm": {
     "name": "#%%\n"
    }
   }
  },
  {
   "cell_type": "code",
   "execution_count": 82,
   "outputs": [],
   "source": [
    "# Use the tuple() function to display the latitude and longitude combinations.\n",
    "# city_name and country_code can be used to get the cities and their country code\n",
    "# for cord in coordinates:\n",
    "#     print(citipy.nearest_city(cord[0],cord[1]).city_name,\n",
    "#           citipy.nearest_city(cord[0],cord[1]).country_code)"
   ],
   "metadata": {
    "collapsed": false,
    "pycharm": {
     "name": "#%%\n"
    }
   }
  },
  {
   "cell_type": "code",
   "execution_count": 70,
   "outputs": [
    {
     "data": {
      "text/plain": "589"
     },
     "execution_count": 70,
     "metadata": {},
     "output_type": "execute_result"
    }
   ],
   "source": [
    "# Creating a list for holding cities\n",
    "cities = []\n",
    "for cord in coordinates:\n",
    "    city = citipy.nearest_city(cord[0],cord[1]).city_name\n",
    "\n",
    "    # Check for duplicates\n",
    "    if city not in cities:\n",
    "        cities.append(city)\n",
    "\n",
    "# Get length of city list\n",
    "len(cities)"
   ],
   "metadata": {
    "collapsed": false,
    "pycharm": {
     "name": "#%%\n"
    }
   }
  },
  {
   "cell_type": "code",
   "execution_count": 101,
   "outputs": [],
   "source": [
    "# Import requests library\n",
    "import requests\n",
    "\n",
    "# Import Weather API Key\n",
    "from config import weather_api_key\n",
    "\n",
    "# Import datetime\n",
    "from datetime import datetime"
   ],
   "metadata": {
    "collapsed": false,
    "pycharm": {
     "name": "#%%\n"
    }
   }
  },
  {
   "cell_type": "code",
   "execution_count": 80,
   "outputs": [
    {
     "data": {
      "text/plain": "'http://api.openweathermap.org/data/2.5/weather?units=Imperial&appid=bcfac3e9a2d3bf370c85f3c6a2d81071'"
     },
     "execution_count": 80,
     "metadata": {},
     "output_type": "execute_result"
    }
   ],
   "source": [
    "# Starting URL for Weather Map API Call.\n",
    "url = 'http://api.openweathermap.org/data/2.5/weather?units=Imperial&appid=' + weather_api_key\n",
    "print(url)"
   ],
   "metadata": {
    "collapsed": false,
    "pycharm": {
     "name": "#%%\n"
    }
   }
  },
  {
   "cell_type": "code",
   "execution_count": 81,
   "outputs": [
    {
     "name": "stdout",
     "output_type": "stream",
     "text": [
      "http://api.openweathermap.org/data/2.5/weather?units=Imperial&appid=bcfac3e9a2d3bf370c85f3c6a2d81071&q=Boston\n"
     ]
    }
   ],
   "source": [
    "# Create an endpoint URL for a city.\n",
    "city_url = url + \"&q=\" + \"Boston\"\n",
    "print(city_url)"
   ],
   "metadata": {
    "collapsed": false,
    "pycharm": {
     "name": "#%%\n"
    }
   }
  },
  {
   "cell_type": "code",
   "execution_count": 83,
   "outputs": [
    {
     "data": {
      "text/plain": "<Response [200]>"
     },
     "execution_count": 83,
     "metadata": {},
     "output_type": "execute_result"
    }
   ],
   "source": [
    "# Make a 'Get' request for the city weather.\n",
    "city_weather = requests.get(city_url)\n",
    "city_weather"
   ],
   "metadata": {
    "collapsed": false,
    "pycharm": {
     "name": "#%%\n"
    }
   }
  },
  {
   "cell_type": "code",
   "execution_count": 85,
   "outputs": [
    {
     "data": {
      "text/plain": "{'coord': {'lon': -71.06, 'lat': 42.36},\n 'weather': [{'id': 801,\n   'main': 'Clouds',\n   'description': 'few clouds',\n   'icon': '02n'}],\n 'base': 'stations',\n 'main': {'temp': 32.99,\n  'feels_like': 22.41,\n  'temp_min': 30.2,\n  'temp_max': 36,\n  'pressure': 1026,\n  'humidity': 47},\n 'visibility': 10000,\n 'wind': {'speed': 9.17, 'deg': 330},\n 'clouds': {'all': 20},\n 'dt': 1604452832,\n 'sys': {'type': 1,\n  'id': 3486,\n  'country': 'US',\n  'sunrise': 1604402436,\n  'sunset': 1604439296},\n 'timezone': -18000,\n 'id': 4930956,\n 'name': 'Boston',\n 'cod': 200}"
     },
     "execution_count": 85,
     "metadata": {},
     "output_type": "execute_result"
    }
   ],
   "source": [
    "# Get JSON text of the Get request\n",
    "city_weather.json()"
   ],
   "metadata": {
    "collapsed": false,
    "pycharm": {
     "name": "#%%\n"
    }
   }
  },
  {
   "cell_type": "code",
   "execution_count": null,
   "outputs": [],
   "source": [
    "# Create an endpoint URL for a city\n",
    "city_url = url + \"&q=\" + \"Boston\"\n",
    "city_weather = requests.get(city_url)\n",
    "if city_weather.status_code == 200:\n",
    "    print(f'City Weather found')\n",
    "else:\n",
    "    print(f'City Weather not found.')"
   ],
   "metadata": {
    "collapsed": false,
    "pycharm": {
     "name": "#%%\n"
    }
   }
  },
  {
   "cell_type": "code",
   "execution_count": 98,
   "outputs": [],
   "source": [
    "# Get the JSON\n",
    "boston_data = city_weather.json()\n",
    "country = boston_data['sys']['country']\n",
    "city = boston_data['name']\n",
    "lat = boston_data['coord']['lat']\n",
    "lng = boston_data['coord']['lon']\n",
    "max_temp = boston_data['main']['temp_max']\n",
    "humidity = boston_data['main']['humidity']\n",
    "clouds = boston_data['clouds']['all']\n",
    "wind = boston_data['wind']['speed']"
   ],
   "metadata": {
    "collapsed": false,
    "pycharm": {
     "name": "#%%\n"
    }
   }
  },
  {
   "cell_type": "code",
   "execution_count": 99,
   "outputs": [
    {
     "name": "stdout",
     "output_type": "stream",
     "text": [
      "US Boston 42.36 -71.06 36 47 20 9.17\n"
     ]
    }
   ],
   "source": [
    "print(country, city, lat, lng, max_temp, humidity, clouds, wind)"
   ],
   "metadata": {
    "collapsed": false,
    "pycharm": {
     "name": "#%%\n"
    }
   }
  },
  {
   "cell_type": "code",
   "execution_count": 110,
   "outputs": [
    {
     "data": {
      "text/plain": "'2020-11-04 01:20:32'"
     },
     "execution_count": 110,
     "metadata": {},
     "output_type": "execute_result"
    }
   ],
   "source": [
    "# Get the date from the weather\n",
    "date = boston_data['dt']\n",
    "\n",
    "# convert UTC date to date format year, month, day, hour, minute, second\n",
    "# date = datetime.utcfromtimestamp(date)\n",
    "\n",
    "date = datetime.utcfromtimestamp(date).strftime('%Y-%m-%d %H:%M:%S')\n",
    "\n",
    "# date"
   ],
   "metadata": {
    "collapsed": false,
    "pycharm": {
     "name": "#%%\n"
    }
   }
  },
  {
   "cell_type": "code",
   "execution_count": 124,
   "outputs": [
    {
     "name": "stdout",
     "output_type": "stream",
     "text": [
      "Beginning Data Retrieval     \n",
      "-----------------------------\n",
      "Processing record 1 of Set 1 | taolanaro\n",
      "The City taolanaro not Found. Skipping .....\n",
      "Processing record 2 of Set 1 | takoradi\n",
      "Processing record 3 of Set 1 | bredasdorp\n",
      "Processing record 4 of Set 1 | alice springs\n",
      "Processing record 5 of Set 1 | hasaki\n",
      "Processing record 6 of Set 1 | vao\n",
      "Processing record 7 of Set 1 | cape town\n",
      "Processing record 8 of Set 1 | yulara\n",
      "Processing record 9 of Set 1 | sault sainte marie\n",
      "Processing record 10 of Set 1 | morondava\n",
      "Processing record 11 of Set 1 | rikitea\n",
      "Processing record 12 of Set 1 | jamestown\n",
      "Processing record 13 of Set 1 | castro\n",
      "Processing record 14 of Set 1 | nizhneyansk\n",
      "The City nizhneyansk not Found. Skipping .....\n",
      "Processing record 15 of Set 1 | talnakh\n",
      "Processing record 16 of Set 1 | murupara\n",
      "Processing record 17 of Set 1 | zhanaozen\n",
      "Processing record 18 of Set 1 | amderma\n",
      "The City amderma not Found. Skipping .....\n",
      "Processing record 19 of Set 1 | barra patuca\n",
      "Processing record 20 of Set 1 | pacific grove\n",
      "Processing record 21 of Set 1 | punta arenas\n",
      "Processing record 22 of Set 1 | fortuna\n",
      "Processing record 23 of Set 1 | walvis bay\n",
      "Processing record 24 of Set 1 | yellowknife\n",
      "Processing record 25 of Set 1 | port hardy\n",
      "Processing record 26 of Set 1 | marcona\n",
      "The City marcona not Found. Skipping .....\n",
      "Processing record 27 of Set 1 | mumford\n",
      "Processing record 28 of Set 1 | hobart\n",
      "Processing record 29 of Set 1 | saskylakh\n",
      "Processing record 30 of Set 1 | flinders\n",
      "Processing record 31 of Set 1 | springbok\n",
      "Processing record 32 of Set 1 | malartic\n",
      "Processing record 33 of Set 1 | cidreira\n",
      "Processing record 34 of Set 1 | liverpool\n",
      "Processing record 35 of Set 1 | ponta do sol\n",
      "Processing record 36 of Set 1 | mount isa\n",
      "Processing record 37 of Set 1 | hermanus\n",
      "Processing record 38 of Set 1 | east london\n",
      "Processing record 39 of Set 1 | malaya serdoba\n",
      "Processing record 40 of Set 1 | ushuaia\n",
      "Processing record 41 of Set 1 | tianpeng\n",
      "Processing record 42 of Set 1 | longyearbyen\n",
      "Processing record 43 of Set 1 | axim\n",
      "Processing record 44 of Set 1 | los llanos de aridane\n",
      "Processing record 45 of Set 1 | kabinda\n",
      "Processing record 46 of Set 1 | hamilton\n",
      "Processing record 47 of Set 1 | barrow\n",
      "Processing record 48 of Set 1 | padang\n",
      "Processing record 49 of Set 1 | constitucion\n",
      "Processing record 50 of Set 1 | det udom\n",
      "Processing record 1 of Set 2 | samarai\n",
      "Processing record 2 of Set 2 | esperance\n",
      "Processing record 3 of Set 2 | barentsburg\n",
      "The City barentsburg not Found. Skipping .....\n",
      "Processing record 4 of Set 2 | nouadhibou\n",
      "Processing record 5 of Set 2 | horsham\n",
      "Processing record 6 of Set 2 | pitimbu\n",
      "Processing record 7 of Set 2 | avarua\n",
      "Processing record 8 of Set 2 | vaini\n",
      "Processing record 9 of Set 2 | hithadhoo\n",
      "Processing record 10 of Set 2 | port elizabeth\n",
      "Processing record 11 of Set 2 | cabo san lucas\n",
      "Processing record 12 of Set 2 | yalutorovsk\n",
      "Processing record 13 of Set 2 | caravelas\n",
      "Processing record 14 of Set 2 | bengkulu\n",
      "Processing record 15 of Set 2 | ugoofaaru\n",
      "Processing record 16 of Set 2 | lebu\n",
      "Processing record 17 of Set 2 | baijiantan\n",
      "Processing record 18 of Set 2 | sentyabrskiy\n",
      "The City sentyabrskiy not Found. Skipping .....\n",
      "Processing record 19 of Set 2 | albany\n",
      "Processing record 20 of Set 2 | pergamino\n",
      "Processing record 21 of Set 2 | iringa\n",
      "Processing record 22 of Set 2 | ilulissat\n",
      "Processing record 23 of Set 2 | new norfolk\n",
      "Processing record 24 of Set 2 | saint george\n",
      "Processing record 25 of Set 2 | ribeira grande\n",
      "Processing record 26 of Set 2 | mataura\n",
      "Processing record 27 of Set 2 | kavaratti\n",
      "Processing record 28 of Set 2 | alta floresta\n",
      "Processing record 29 of Set 2 | vaitupu\n",
      "The City vaitupu not Found. Skipping .....\n",
      "Processing record 30 of Set 2 | georgetown\n",
      "Processing record 31 of Set 2 | chagda\n",
      "The City chagda not Found. Skipping .....\n",
      "Processing record 32 of Set 2 | felanitx\n",
      "Processing record 33 of Set 2 | busselton\n",
      "Processing record 34 of Set 2 | bluff\n",
      "Processing record 35 of Set 2 | copiapo\n",
      "Processing record 36 of Set 2 | buala\n",
      "Processing record 37 of Set 2 | port alfred\n",
      "Processing record 38 of Set 2 | tasiilaq\n",
      "Processing record 39 of Set 2 | rocha\n",
      "Processing record 40 of Set 2 | brae\n",
      "Processing record 41 of Set 2 | atuona\n",
      "Processing record 42 of Set 2 | micomeseng\n",
      "Processing record 43 of Set 2 | butaritari\n",
      "Processing record 44 of Set 2 | thompson\n",
      "Processing record 45 of Set 2 | bethel\n",
      "Processing record 46 of Set 2 | paranavai\n",
      "Processing record 47 of Set 2 | acarau\n",
      "Processing record 48 of Set 2 | tignere\n",
      "Processing record 49 of Set 2 | grand river south east\n",
      "The City grand river south east not Found. Skipping .....\n",
      "Processing record 50 of Set 2 | pisco\n",
      "Processing record 1 of Set 3 | rovaniemi\n",
      "Processing record 2 of Set 3 | sfantu gheorghe\n",
      "Processing record 3 of Set 3 | illoqqortoormiut\n",
      "The City illoqqortoormiut not Found. Skipping .....\n",
      "Processing record 4 of Set 3 | tombouctou\n",
      "Processing record 5 of Set 3 | kulotino\n",
      "Processing record 6 of Set 3 | phalodi\n",
      "Processing record 7 of Set 3 | airai\n",
      "Processing record 8 of Set 3 | luganville\n",
      "Processing record 9 of Set 3 | tekeli\n",
      "Processing record 10 of Set 3 | beringovskiy\n",
      "Processing record 11 of Set 3 | soanierana ivongo\n",
      "Processing record 12 of Set 3 | iqaluit\n",
      "Processing record 13 of Set 3 | san patricio\n",
      "Processing record 14 of Set 3 | abu samrah\n",
      "Processing record 15 of Set 3 | saint-philippe\n",
      "Processing record 16 of Set 3 | dikson\n",
      "Processing record 17 of Set 3 | provideniya\n",
      "Processing record 18 of Set 3 | paamiut\n",
      "Processing record 19 of Set 3 | pevek\n",
      "Processing record 20 of Set 3 | salta\n",
      "Processing record 21 of Set 3 | chuy\n",
      "Processing record 22 of Set 3 | biltine\n",
      "Processing record 23 of Set 3 | coro\n",
      "Processing record 24 of Set 3 | tsihombe\n",
      "The City tsihombe not Found. Skipping .....\n",
      "Processing record 25 of Set 3 | qaanaaq\n",
      "Processing record 26 of Set 3 | mayumba\n",
      "Processing record 27 of Set 3 | khatanga\n",
      "Processing record 28 of Set 3 | nemuro\n",
      "Processing record 29 of Set 3 | kununurra\n",
      "Processing record 30 of Set 3 | hami\n",
      "Processing record 31 of Set 3 | grand-lahou\n",
      "Processing record 32 of Set 3 | karasjok\n",
      "Processing record 33 of Set 3 | kahului\n",
      "Processing record 34 of Set 3 | arica\n",
      "Processing record 35 of Set 3 | luba\n",
      "Processing record 36 of Set 3 | kaitangata\n",
      "Processing record 37 of Set 3 | tura\n",
      "Processing record 38 of Set 3 | cockburn town\n",
      "Processing record 39 of Set 3 | palabuhanratu\n",
      "The City palabuhanratu not Found. Skipping .....\n",
      "Processing record 40 of Set 3 | norman wells\n",
      "Processing record 41 of Set 3 | chacarita\n",
      "Processing record 42 of Set 3 | barras\n",
      "Processing record 43 of Set 3 | mayor pablo lagerenza\n",
      "Processing record 44 of Set 3 | bur gabo\n",
      "The City bur gabo not Found. Skipping .....\n",
      "Processing record 45 of Set 3 | tateyama\n",
      "Processing record 46 of Set 3 | mitu\n",
      "Processing record 47 of Set 3 | paita\n",
      "Processing record 48 of Set 3 | mahebourg\n",
      "Processing record 49 of Set 3 | george town\n",
      "Processing record 50 of Set 3 | cruden bay\n",
      "The City cruden bay not Found. Skipping .....\n",
      "Processing record 1 of Set 4 | sydney\n",
      "Processing record 2 of Set 4 | saldanha\n",
      "Processing record 3 of Set 4 | puerto ayora\n",
      "Processing record 4 of Set 4 | aldan\n",
      "Processing record 5 of Set 4 | birjand\n",
      "Processing record 6 of Set 4 | nyurba\n",
      "Processing record 7 of Set 4 | atar\n",
      "Processing record 8 of Set 4 | tungkang\n",
      "The City tungkang not Found. Skipping .....\n",
      "Processing record 9 of Set 4 | faanui\n",
      "Processing record 10 of Set 4 | port blair\n",
      "Processing record 11 of Set 4 | peterhead\n",
      "Processing record 12 of Set 4 | talaya\n",
      "Processing record 13 of Set 4 | nosy varika\n",
      "Processing record 14 of Set 4 | hilo\n",
      "Processing record 15 of Set 4 | belyy yar\n",
      "Processing record 16 of Set 4 | fairbanks\n",
      "Processing record 17 of Set 4 | kapaa\n",
      "Processing record 18 of Set 4 | roma\n",
      "Processing record 19 of Set 4 | hamadan\n",
      "Processing record 20 of Set 4 | warrington\n",
      "Processing record 21 of Set 4 | shcholkine\n",
      "The City shcholkine not Found. Skipping .....\n",
      "Processing record 22 of Set 4 | codrington\n",
      "Processing record 23 of Set 4 | khani\n",
      "Processing record 24 of Set 4 | te anau\n",
      "Processing record 25 of Set 4 | halalo\n",
      "The City halalo not Found. Skipping .....\n",
      "Processing record 26 of Set 4 | nabire\n",
      "Processing record 27 of Set 4 | medeiros neto\n",
      "Processing record 28 of Set 4 | tuktoyaktuk\n",
      "Processing record 29 of Set 4 | tuatapere\n",
      "Processing record 30 of Set 4 | arman\n",
      "Processing record 31 of Set 4 | verkhnevilyuysk\n",
      "Processing record 32 of Set 4 | ewo\n",
      "Processing record 33 of Set 4 | kaeo\n",
      "Processing record 34 of Set 4 | aberdeen\n",
      "Processing record 35 of Set 4 | hunza\n",
      "The City hunza not Found. Skipping .....\n",
      "Processing record 36 of Set 4 | cayenne\n",
      "Processing record 37 of Set 4 | batagay\n",
      "Processing record 38 of Set 4 | luanda\n",
      "Processing record 39 of Set 4 | husavik\n",
      "Processing record 40 of Set 4 | jalu\n",
      "Processing record 41 of Set 4 | kalachinsk\n",
      "Processing record 42 of Set 4 | lompoc\n",
      "Processing record 43 of Set 4 | upernavik\n",
      "Processing record 44 of Set 4 | virginia beach\n",
      "Processing record 45 of Set 4 | port keats\n",
      "Processing record 46 of Set 4 | opportunity\n",
      "Processing record 47 of Set 4 | russkaya polyana\n",
      "Processing record 48 of Set 4 | road town\n",
      "Processing record 49 of Set 4 | auki\n",
      "Processing record 50 of Set 4 | santa vitoria do palmar\n",
      "Processing record 1 of Set 5 | trairi\n",
      "Processing record 2 of Set 5 | guicheng\n",
      "The City guicheng not Found. Skipping .....\n",
      "Processing record 3 of Set 5 | broken hill\n",
      "Processing record 4 of Set 5 | bintulu\n",
      "Processing record 5 of Set 5 | port-cartier\n",
      "Processing record 6 of Set 5 | namibe\n",
      "Processing record 7 of Set 5 | aksu\n",
      "Processing record 8 of Set 5 | samusu\n",
      "The City samusu not Found. Skipping .....\n",
      "Processing record 9 of Set 5 | muisne\n",
      "Processing record 10 of Set 5 | tatawin\n",
      "Processing record 11 of Set 5 | mergui\n",
      "The City mergui not Found. Skipping .....\n",
      "Processing record 12 of Set 5 | haines junction\n",
      "Processing record 13 of Set 5 | itoman\n",
      "Processing record 14 of Set 5 | pangkalanbuun\n",
      "Processing record 15 of Set 5 | scarborough\n",
      "Processing record 16 of Set 5 | sitia\n",
      "Processing record 17 of Set 5 | gravdal\n",
      "Processing record 18 of Set 5 | koygorodok\n",
      "Processing record 19 of Set 5 | attawapiskat\n",
      "The City attawapiskat not Found. Skipping .....\n",
      "Processing record 20 of Set 5 | slave lake\n",
      "Processing record 21 of Set 5 | kimbe\n",
      "Processing record 22 of Set 5 | severo-kurilsk\n",
      "Processing record 23 of Set 5 | warqla\n",
      "The City warqla not Found. Skipping .....\n",
      "Processing record 24 of Set 5 | mar del plata\n",
      "Processing record 25 of Set 5 | mount gambier\n",
      "Processing record 26 of Set 5 | san cristobal\n",
      "Processing record 27 of Set 5 | nuuk\n",
      "Processing record 28 of Set 5 | nome\n",
      "Processing record 29 of Set 5 | mayo\n",
      "Processing record 30 of Set 5 | grand forks\n",
      "Processing record 31 of Set 5 | gurskoye\n",
      "The City gurskoye not Found. Skipping .....\n",
      "Processing record 32 of Set 5 | erzin\n",
      "Processing record 33 of Set 5 | chokurdakh\n",
      "Processing record 34 of Set 5 | kirakira\n",
      "Processing record 35 of Set 5 | almenevo\n",
      "The City almenevo not Found. Skipping .....\n",
      "Processing record 36 of Set 5 | vila franca do campo\n",
      "Processing record 37 of Set 5 | santa elena\n",
      "Processing record 38 of Set 5 | vangaindrano\n",
      "Processing record 39 of Set 5 | san felipe\n",
      "Processing record 40 of Set 5 | popondetta\n",
      "Processing record 41 of Set 5 | antalaha\n",
      "Processing record 42 of Set 5 | san carlos\n",
      "Processing record 43 of Set 5 | egvekinot\n",
      "Processing record 44 of Set 5 | caxito\n",
      "Processing record 45 of Set 5 | meulaboh\n",
      "Processing record 46 of Set 5 | opelousas\n",
      "Processing record 47 of Set 5 | souillac\n",
      "Processing record 48 of Set 5 | kudahuvadhoo\n",
      "Processing record 49 of Set 5 | chippewa falls\n",
      "Processing record 50 of Set 5 | tiksi\n",
      "Processing record 1 of Set 6 | kathmandu\n",
      "Processing record 2 of Set 6 | bambous virieux\n",
      "Processing record 3 of Set 6 | muravlenko\n",
      "Processing record 4 of Set 6 | sorland\n",
      "Processing record 5 of Set 6 | sibu\n",
      "Processing record 6 of Set 6 | emerald\n",
      "Processing record 7 of Set 6 | sechelt\n",
      "Processing record 8 of Set 6 | san quintin\n",
      "Processing record 9 of Set 6 | narsaq\n",
      "Processing record 10 of Set 6 | effium\n",
      "Processing record 11 of Set 6 | malacacheta\n",
      "Processing record 12 of Set 6 | princeton\n",
      "Processing record 13 of Set 6 | bonavista\n",
      "Processing record 14 of Set 6 | najran\n",
      "Processing record 15 of Set 6 | sinyavskoye\n",
      "Processing record 16 of Set 6 | marsassoum\n",
      "Processing record 17 of Set 6 | umzimvubu\n",
      "The City umzimvubu not Found. Skipping .....\n",
      "Processing record 18 of Set 6 | fort nelson\n",
      "Processing record 19 of Set 6 | biak\n",
      "Processing record 20 of Set 6 | ondorhaan\n",
      "The City ondorhaan not Found. Skipping .....\n",
      "Processing record 21 of Set 6 | luderitz\n",
      "Processing record 22 of Set 6 | ayan\n",
      "Processing record 23 of Set 6 | clyde river\n",
      "Processing record 24 of Set 6 | ous\n",
      "Processing record 25 of Set 6 | urumqi\n",
      "Processing record 26 of Set 6 | waipawa\n",
      "Processing record 27 of Set 6 | feijo\n",
      "Processing record 28 of Set 6 | karratha\n",
      "Processing record 29 of Set 6 | ahuimanu\n",
      "Processing record 30 of Set 6 | wabana\n",
      "Processing record 31 of Set 6 | pundaguitan\n",
      "Processing record 32 of Set 6 | kodiak\n",
      "Processing record 33 of Set 6 | non sang\n",
      "Processing record 34 of Set 6 | yaan\n",
      "Processing record 35 of Set 6 | mikumi\n",
      "Processing record 36 of Set 6 | vestmannaeyjar\n",
      "Processing record 37 of Set 6 | tamworth\n",
      "Processing record 38 of Set 6 | monrovia\n",
      "Processing record 39 of Set 6 | drovyanaya\n",
      "Processing record 40 of Set 6 | korgen\n",
      "Processing record 41 of Set 6 | anadyr\n",
      "Processing record 42 of Set 6 | pakxan\n",
      "Processing record 43 of Set 6 | arraial do cabo\n",
      "Processing record 44 of Set 6 | yuzhnyy\n",
      "Processing record 45 of Set 6 | sibenik\n",
      "Processing record 46 of Set 6 | ahipara\n",
      "Processing record 47 of Set 6 | alghero\n",
      "Processing record 48 of Set 6 | bargarh\n",
      "Processing record 49 of Set 6 | gushikawa\n",
      "Processing record 50 of Set 6 | carnarvon\n",
      "Processing record 1 of Set 7 | rungata\n",
      "The City rungata not Found. Skipping .....\n",
      "Processing record 2 of Set 7 | sayyan\n",
      "Processing record 3 of Set 7 | grand gaube\n",
      "Processing record 4 of Set 7 | saint-pierre\n",
      "Processing record 5 of Set 7 | mecca\n",
      "Processing record 6 of Set 7 | nueva italia\n",
      "Processing record 7 of Set 7 | smiths falls\n",
      "Processing record 8 of Set 7 | salalah\n",
      "Processing record 9 of Set 7 | grand island\n",
      "Processing record 10 of Set 7 | amahai\n",
      "Processing record 11 of Set 7 | aden\n",
      "Processing record 12 of Set 7 | ribeirao preto\n",
      "Processing record 13 of Set 7 | tarauaca\n",
      "Processing record 14 of Set 7 | khandbari\n",
      "Processing record 15 of Set 7 | harper\n",
      "Processing record 16 of Set 7 | vardo\n",
      "Processing record 17 of Set 7 | caucaia\n",
      "Processing record 18 of Set 7 | half moon bay\n",
      "Processing record 19 of Set 7 | nanortalik\n",
      "Processing record 20 of Set 7 | kruisfontein\n",
      "Processing record 21 of Set 7 | katsuura\n",
      "Processing record 22 of Set 7 | belushya guba\n",
      "The City belushya guba not Found. Skipping .....\n",
      "Processing record 23 of Set 7 | kibre mengist\n",
      "Processing record 24 of Set 7 | palana\n",
      "Processing record 25 of Set 7 | russell\n",
      "Processing record 26 of Set 7 | poum\n",
      "Processing record 27 of Set 7 | saleaula\n",
      "The City saleaula not Found. Skipping .....\n",
      "Processing record 28 of Set 7 | lerwick\n",
      "Processing record 29 of Set 7 | itacoatiara\n",
      "Processing record 30 of Set 7 | moba\n",
      "Processing record 31 of Set 7 | dongkan\n",
      "Processing record 32 of Set 7 | lalomanu\n",
      "The City lalomanu not Found. Skipping .....\n",
      "Processing record 33 of Set 7 | port moresby\n",
      "Processing record 34 of Set 7 | grindavik\n",
      "Processing record 35 of Set 7 | standerton\n",
      "Processing record 36 of Set 7 | chervone\n",
      "Processing record 37 of Set 7 | puerto baquerizo moreno\n",
      "Processing record 38 of Set 7 | labuhan\n",
      "Processing record 39 of Set 7 | nikolskoye\n",
      "Processing record 40 of Set 7 | gandai\n",
      "Processing record 41 of Set 7 | salinas\n",
      "Processing record 42 of Set 7 | berlevag\n",
      "Processing record 43 of Set 7 | coihaique\n",
      "Processing record 44 of Set 7 | kitimat\n",
      "Processing record 45 of Set 7 | tomatlan\n",
      "Processing record 46 of Set 7 | mazagao\n",
      "Processing record 47 of Set 7 | makubetsu\n",
      "Processing record 48 of Set 7 | channel-port aux basques\n",
      "Processing record 49 of Set 7 | taoudenni\n",
      "Processing record 50 of Set 7 | sakakah\n",
      "Processing record 1 of Set 8 | quelimane\n",
      "Processing record 2 of Set 8 | tarko-sale\n",
      "Processing record 3 of Set 8 | marzuq\n",
      "Processing record 4 of Set 8 | rio tercero\n",
      "Processing record 5 of Set 8 | tommot\n",
      "Processing record 6 of Set 8 | camana\n",
      "Processing record 7 of Set 8 | maralal\n",
      "Processing record 8 of Set 8 | pombas\n",
      "Processing record 9 of Set 8 | ancud\n",
      "Processing record 10 of Set 8 | bardiyah\n",
      "Processing record 11 of Set 8 | miramar\n",
      "Processing record 12 of Set 8 | catazaja\n",
      "Processing record 13 of Set 8 | timra\n",
      "Processing record 14 of Set 8 | noto\n",
      "Processing record 15 of Set 8 | namatanai\n",
      "Processing record 16 of Set 8 | okhotsk\n",
      "Processing record 17 of Set 8 | shakhta\n",
      "Processing record 18 of Set 8 | ulaangom\n",
      "Processing record 19 of Set 8 | panevezys\n",
      "Processing record 20 of Set 8 | bandarbeyla\n",
      "Processing record 21 of Set 8 | mys shmidta\n",
      "The City mys shmidta not Found. Skipping .....\n",
      "Processing record 22 of Set 8 | samalaeulu\n",
      "The City samalaeulu not Found. Skipping .....\n",
      "Processing record 23 of Set 8 | salinopolis\n",
      "Processing record 24 of Set 8 | boralday\n",
      "Processing record 25 of Set 8 | victoria\n",
      "Processing record 26 of Set 8 | torbay\n",
      "Processing record 27 of Set 8 | deputatskiy\n",
      "Processing record 28 of Set 8 | prince albert\n",
      "Processing record 29 of Set 8 | port lincoln\n",
      "Processing record 30 of Set 8 | pangnirtung\n",
      "Processing record 31 of Set 8 | ukiah\n",
      "Processing record 32 of Set 8 | villa maria\n",
      "Processing record 33 of Set 8 | daru\n",
      "Processing record 34 of Set 8 | ostrovnoy\n",
      "Processing record 35 of Set 8 | veraval\n",
      "Processing record 36 of Set 8 | henties bay\n",
      "Processing record 37 of Set 8 | nioro\n",
      "Processing record 38 of Set 8 | soure\n",
      "Processing record 39 of Set 8 | phalombe\n",
      "Processing record 40 of Set 8 | shimoda\n",
      "Processing record 41 of Set 8 | gambela\n",
      "Processing record 42 of Set 8 | sinnamary\n",
      "Processing record 43 of Set 8 | boundiali\n",
      "Processing record 44 of Set 8 | ossora\n",
      "Processing record 45 of Set 8 | kavieng\n",
      "Processing record 46 of Set 8 | kloulklubed\n",
      "Processing record 47 of Set 8 | neuquen\n",
      "Processing record 48 of Set 8 | pacasmayo\n",
      "Processing record 49 of Set 8 | sunbury\n",
      "Processing record 50 of Set 8 | zyuzelskiy\n",
      "Processing record 1 of Set 9 | filingue\n",
      "Processing record 2 of Set 9 | parrita\n",
      "Processing record 3 of Set 9 | mahibadhoo\n",
      "Processing record 4 of Set 9 | leningradskiy\n",
      "Processing record 5 of Set 9 | bajmok\n",
      "Processing record 6 of Set 9 | maningrida\n",
      "Processing record 7 of Set 9 | kaoma\n",
      "Processing record 8 of Set 9 | rawson\n",
      "Processing record 9 of Set 9 | balotra\n",
      "Processing record 10 of Set 9 | candido mendes\n",
      "Processing record 11 of Set 9 | muros\n",
      "Processing record 12 of Set 9 | eatonton\n",
      "Processing record 13 of Set 9 | saint-augustin\n",
      "Processing record 14 of Set 9 | yumen\n",
      "Processing record 15 of Set 9 | bosaso\n",
      "Processing record 16 of Set 9 | sesheke\n",
      "Processing record 17 of Set 9 | adrar\n",
      "Processing record 18 of Set 9 | bairiki\n",
      "Processing record 19 of Set 9 | duku\n",
      "Processing record 20 of Set 9 | angra\n",
      "The City angra not Found. Skipping .....\n",
      "Processing record 21 of Set 9 | hazleton\n",
      "Processing record 22 of Set 9 | shelburne\n",
      "Processing record 23 of Set 9 | atambua\n",
      "Processing record 24 of Set 9 | sumter\n",
      "Processing record 25 of Set 9 | iquitos\n",
      "Processing record 26 of Set 9 | raudeberg\n",
      "Processing record 27 of Set 9 | georgiyevskoye\n",
      "Processing record 28 of Set 9 | taltal\n",
      "Processing record 29 of Set 9 | viedma\n",
      "Processing record 30 of Set 9 | dawlatabad\n",
      "Processing record 31 of Set 9 | anchorage\n",
      "Processing record 32 of Set 9 | hambantota\n",
      "Processing record 33 of Set 9 | vestmanna\n",
      "Processing record 34 of Set 9 | shangrao\n",
      "Processing record 35 of Set 9 | sur\n",
      "Processing record 36 of Set 9 | sobolevo\n",
      "Processing record 37 of Set 9 | baiao\n",
      "Processing record 38 of Set 9 | lagoa\n",
      "Processing record 39 of Set 9 | butembo\n",
      "Processing record 40 of Set 9 | bilma\n",
      "Processing record 41 of Set 9 | richards bay\n",
      "Processing record 42 of Set 9 | baykalsk\n",
      "Processing record 43 of Set 9 | gympie\n",
      "Processing record 44 of Set 9 | beloha\n",
      "Processing record 45 of Set 9 | khalkhal\n",
      "Processing record 46 of Set 9 | america dourada\n",
      "Processing record 47 of Set 9 | tramore\n",
      "Processing record 48 of Set 9 | grand baie\n",
      "Processing record 49 of Set 9 | sarakhs\n",
      "Processing record 50 of Set 9 | grand centre\n",
      "The City grand centre not Found. Skipping .....\n",
      "Processing record 1 of Set 10 | watertown\n",
      "Processing record 2 of Set 10 | guarapari\n",
      "Processing record 3 of Set 10 | tawkar\n",
      "The City tawkar not Found. Skipping .....\n",
      "Processing record 4 of Set 10 | pozo colorado\n",
      "Processing record 5 of Set 10 | magadan\n",
      "Processing record 6 of Set 10 | mocuba\n",
      "Processing record 7 of Set 10 | porto novo\n",
      "Processing record 8 of Set 10 | agde\n",
      "Processing record 9 of Set 10 | quesnel\n",
      "Processing record 10 of Set 10 | yirol\n",
      "The City yirol not Found. Skipping .....\n",
      "Processing record 11 of Set 10 | lufilufi\n",
      "Processing record 12 of Set 10 | ponta delgada\n",
      "Processing record 13 of Set 10 | jewar\n",
      "Processing record 14 of Set 10 | doha\n",
      "Processing record 15 of Set 10 | alofi\n",
      "Processing record 16 of Set 10 | turayf\n",
      "Processing record 17 of Set 10 | washington\n",
      "Processing record 18 of Set 10 | asau\n",
      "Processing record 19 of Set 10 | konakovo\n",
      "Processing record 20 of Set 10 | burica\n",
      "The City burica not Found. Skipping .....\n",
      "Processing record 21 of Set 10 | praia\n",
      "Processing record 22 of Set 10 | omsukchan\n",
      "Processing record 23 of Set 10 | platanos\n",
      "Processing record 24 of Set 10 | puri\n",
      "Processing record 25 of Set 10 | magadi\n",
      "Processing record 26 of Set 10 | areosa\n",
      "Processing record 27 of Set 10 | muroto\n",
      "Processing record 28 of Set 10 | agadez\n",
      "Processing record 29 of Set 10 | hondo\n",
      "Processing record 30 of Set 10 | shahrud\n",
      "Processing record 31 of Set 10 | fevralsk\n",
      "The City fevralsk not Found. Skipping .....\n",
      "Processing record 32 of Set 10 | lasa\n",
      "Processing record 33 of Set 10 | kulob\n",
      "Processing record 34 of Set 10 | aklavik\n",
      "Processing record 35 of Set 10 | jasper\n",
      "Processing record 36 of Set 10 | duncan\n",
      "Processing record 37 of Set 10 | garden city\n",
      "Processing record 38 of Set 10 | coahuayana\n",
      "Processing record 39 of Set 10 | olafsvik\n",
      "Processing record 40 of Set 10 | sisimiut\n",
      "Processing record 41 of Set 10 | port hedland\n",
      "Processing record 42 of Set 10 | petropavlovsk-kamchatskiy\n",
      "Processing record 43 of Set 10 | sungaipenuh\n",
      "Processing record 44 of Set 10 | margate\n",
      "Processing record 45 of Set 10 | oktyabrskoye\n",
      "Processing record 46 of Set 10 | chaohu\n",
      "Processing record 47 of Set 10 | grand-santi\n",
      "Processing record 48 of Set 10 | irbil\n",
      "Processing record 49 of Set 10 | tuzha\n",
      "Processing record 50 of Set 10 | keningau\n",
      "Processing record 1 of Set 11 | maridi\n",
      "Processing record 2 of Set 11 | valdivia\n",
      "Processing record 3 of Set 11 | arvika\n",
      "Processing record 4 of Set 11 | labytnangi\n",
      "Processing record 5 of Set 11 | baker city\n",
      "Processing record 6 of Set 11 | sosnovo-ozerskoye\n",
      "Processing record 7 of Set 11 | macrohon\n",
      "Processing record 8 of Set 11 | banda aceh\n",
      "Processing record 9 of Set 11 | naze\n",
      "Processing record 10 of Set 11 | khandyga\n",
      "Processing record 11 of Set 11 | tazovskiy\n",
      "Processing record 12 of Set 11 | pljevlja\n",
      "Processing record 13 of Set 11 | dalian\n",
      "Processing record 14 of Set 11 | balabac\n",
      "Processing record 15 of Set 11 | faya\n",
      "Processing record 16 of Set 11 | denpasar\n",
      "Processing record 17 of Set 11 | lebork\n",
      "Processing record 18 of Set 11 | rio cuarto\n",
      "Processing record 19 of Set 11 | the valley\n",
      "Processing record 20 of Set 11 | altonia\n",
      "The City altonia not Found. Skipping .....\n",
      "Processing record 21 of Set 11 | wanaka\n",
      "Processing record 22 of Set 11 | lavrentiya\n",
      "Processing record 23 of Set 11 | marica\n",
      "Processing record 24 of Set 11 | huazolotitlan\n",
      "The City huazolotitlan not Found. Skipping .....\n",
      "Processing record 25 of Set 11 | conway\n",
      "Processing record 26 of Set 11 | baykit\n",
      "Processing record 27 of Set 11 | matadi\n",
      "Processing record 28 of Set 11 | manzil tamim\n",
      "The City manzil tamim not Found. Skipping .....\n",
      "Processing record 29 of Set 11 | saryshagan\n",
      "The City saryshagan not Found. Skipping .....\n",
      "Processing record 30 of Set 11 | novyy buh\n",
      "Processing record 31 of Set 11 | kerema\n",
      "Processing record 32 of Set 11 | brigantine\n",
      "Processing record 33 of Set 11 | hauterive\n",
      "Processing record 34 of Set 11 | castelo do piaui\n",
      "Processing record 35 of Set 11 | tromso\n",
      "Processing record 36 of Set 11 | dourbali\n",
      "Processing record 37 of Set 11 | aquiraz\n",
      "Processing record 38 of Set 11 | stabat\n",
      "Processing record 39 of Set 11 | yanan\n",
      "The City yanan not Found. Skipping .....\n",
      "Processing record 40 of Set 11 | innisfail\n",
      "Processing record 41 of Set 11 | geraldton\n",
      "Processing record 42 of Set 11 | sao filipe\n",
      "Processing record 43 of Set 11 | sitka\n",
      "Processing record 44 of Set 11 | nicoya\n",
      "Processing record 45 of Set 11 | ketchikan\n",
      "Processing record 46 of Set 11 | saint anthony\n",
      "Processing record 47 of Set 11 | mamakan\n",
      "Processing record 48 of Set 11 | usinsk\n",
      "Processing record 49 of Set 11 | madang\n",
      "Processing record 50 of Set 11 | westport\n",
      "Processing record 1 of Set 12 | belogradcik\n",
      "The City belogradcik not Found. Skipping .....\n",
      "Processing record 2 of Set 12 | alausi\n",
      "Processing record 3 of Set 12 | klaksvik\n",
      "Processing record 4 of Set 12 | manggar\n",
      "Processing record 5 of Set 12 | black river\n",
      "Processing record 6 of Set 12 | prince rupert\n",
      "Processing record 7 of Set 12 | mokhotlong\n",
      "Processing record 8 of Set 12 | baruun-urt\n",
      "Processing record 9 of Set 12 | chulym\n",
      "Processing record 10 of Set 12 | alyangula\n",
      "Processing record 11 of Set 12 | mitsamiouli\n",
      "Processing record 12 of Set 12 | qaqortoq\n",
      "Processing record 13 of Set 12 | mahenge\n",
      "Processing record 14 of Set 12 | chengde\n",
      "Processing record 15 of Set 12 | teguise\n",
      "Processing record 16 of Set 12 | tokur\n",
      "Processing record 17 of Set 12 | lulea\n",
      "Processing record 18 of Set 12 | mahanoro\n",
      "Processing record 19 of Set 12 | vallenar\n",
      "Processing record 20 of Set 12 | bhimunipatnam\n",
      "Processing record 21 of Set 12 | guatire\n",
      "Processing record 22 of Set 12 | charters towers\n",
      "Processing record 23 of Set 12 | tunduru\n",
      "The City tunduru not Found. Skipping .....\n",
      "Processing record 24 of Set 12 | svetlyy\n",
      "Processing record 25 of Set 12 | nizwa\n",
      "Processing record 26 of Set 12 | srednekolymsk\n",
      "Processing record 27 of Set 12 | progreso\n",
      "Processing record 28 of Set 12 | banjar\n",
      "Processing record 29 of Set 12 | sharanga\n",
      "Processing record 30 of Set 12 | urengoy\n",
      "Processing record 31 of Set 12 | astoria\n",
      "Processing record 32 of Set 12 | guerrero negro\n",
      "Processing record 33 of Set 12 | gimbi\n",
      "Processing record 34 of Set 12 | dunedin\n",
      "Processing record 35 of Set 12 | itarema\n",
      "Processing record 36 of Set 12 | kisanga\n",
      "Processing record 37 of Set 12 | laguna\n",
      "Processing record 38 of Set 12 | dudinka\n",
      "Processing record 39 of Set 12 | dicabisagan\n",
      "-----------------------------\n",
      "Data Retrieval Complete      \n",
      "-----------------------------\n"
     ]
    }
   ],
   "source": [
    "# Create an empty ;list to hold the data\n",
    "city_data = []\n",
    "# Print the beginning of the logging.\n",
    "print(\"Beginning Data Retrieval     \")\n",
    "print(\"-----------------------------\")\n",
    "\n",
    "# Create counter\n",
    "record_count = 1\n",
    "set_count = 1\n",
    "\n",
    "# loop through all the cities\n",
    "for i, city in enumerate(cities):\n",
    "\n",
    "    # Grouping cities in sets of 50 for logging\n",
    "    if (i % 50 == 0 and i >= 50 ):\n",
    "        set_count += 1\n",
    "        record_count = 1\n",
    "\n",
    "    city_url = url + \"&q=\" + city.replace(\" \", \"+\")\n",
    "\n",
    "    # Logging the URL, record number, set number and city\n",
    "    print(f'Processing record {record_count} of Set {set_count} | {city}')\n",
    "    record_count += 1\n",
    "\n",
    "    try:\n",
    "        city_weather = requests.get(city_url).json()\n",
    "        \n",
    "        # Parse out the needed data\n",
    "        city_lat = city_weather['coord']['lat']\n",
    "        city_lng = city_weather['coord']['lon']\n",
    "        city_max_temp = city_weather['main']['temp_max']\n",
    "        city_humidity = city_weather['main']['humidity']\n",
    "        city_clouds = city_weather['clouds']['all']\n",
    "        city_wind = city_weather['wind']['speed']\n",
    "        city_country = city_weather['sys']['country']\n",
    "        city_date = datetime.utcfromtimestamp(city_weather['dt']).strftime('%Y-%m-%d %H:%M:%S')\n",
    "\n",
    "        city_data.append({'City': city.title(),\n",
    "            'Latitude': city_lat,\n",
    "            'Longitude': city_lng,\n",
    "            'Humidity': city_humidity,\n",
    "            'Cloudiness': city_clouds,\n",
    "            'Max Temperature': city_max_temp,\n",
    "            'Winds': city_wind,\n",
    "            'Country': city_country,\n",
    "            'Date': city_date\n",
    "        })\n",
    "    except:\n",
    "        print(f'The City {city} not Found. Skipping .....')\n",
    "\n",
    "# Indicate that Data Loading is complete.\n",
    "print(\"-----------------------------\")\n",
    "print(\"Data Retrieval Complete      \")\n",
    "print(\"-----------------------------\")"
   ],
   "metadata": {
    "collapsed": false,
    "pycharm": {
     "name": "#%%\n"
    }
   }
  },
  {
   "cell_type": "code",
   "execution_count": 125,
   "outputs": [
    {
     "data": {
      "text/plain": "{'City': 'Takoradi',\n 'Latitude': 4.88,\n 'Longitude': -1.76,\n 'Humidity': 86,\n 'Cloudiness': 50,\n 'Max Temperature': 78.35,\n 'Winds': 4.61,\n 'Country': 'GH',\n 'Date': '2020-11-04 05:38:07'}"
     },
     "execution_count": 125,
     "metadata": {},
     "output_type": "execute_result"
    }
   ],
   "source": [
    "city_data[0]"
   ],
   "metadata": {
    "collapsed": false,
    "pycharm": {
     "name": "#%%\n"
    }
   }
  },
  {
   "cell_type": "code",
   "execution_count": 126,
   "outputs": [
    {
     "data": {
      "text/plain": "            City  Latitude  Longitude  Humidity  Cloudiness  Max Temperature  \\\n0       Takoradi      4.88      -1.76        86          50            78.35   \n1     Bredasdorp    -34.53      20.04        93          45            66.20   \n2  Alice Springs    -23.70     133.88         6           0           100.40   \n3         Hasaki     35.73     140.83        30          20            66.00   \n4            Vao    -22.67     167.48        85         100            73.54   \n\n   Winds Country                 Date  \n0   4.61      GH  2020-11-04 05:38:07  \n1   6.93      ZA  2020-11-04 05:38:07  \n2   9.17      AU  2020-11-04 05:35:48  \n3  12.75      JP  2020-11-04 05:38:07  \n4   3.36      NC  2020-11-04 05:38:08  ",
      "text/html": "<div>\n<style scoped>\n    .dataframe tbody tr th:only-of-type {\n        vertical-align: middle;\n    }\n\n    .dataframe tbody tr th {\n        vertical-align: top;\n    }\n\n    .dataframe thead th {\n        text-align: right;\n    }\n</style>\n<table border=\"1\" class=\"dataframe\">\n  <thead>\n    <tr style=\"text-align: right;\">\n      <th></th>\n      <th>City</th>\n      <th>Latitude</th>\n      <th>Longitude</th>\n      <th>Humidity</th>\n      <th>Cloudiness</th>\n      <th>Max Temperature</th>\n      <th>Winds</th>\n      <th>Country</th>\n      <th>Date</th>\n    </tr>\n  </thead>\n  <tbody>\n    <tr>\n      <th>0</th>\n      <td>Takoradi</td>\n      <td>4.88</td>\n      <td>-1.76</td>\n      <td>86</td>\n      <td>50</td>\n      <td>78.35</td>\n      <td>4.61</td>\n      <td>GH</td>\n      <td>2020-11-04 05:38:07</td>\n    </tr>\n    <tr>\n      <th>1</th>\n      <td>Bredasdorp</td>\n      <td>-34.53</td>\n      <td>20.04</td>\n      <td>93</td>\n      <td>45</td>\n      <td>66.20</td>\n      <td>6.93</td>\n      <td>ZA</td>\n      <td>2020-11-04 05:38:07</td>\n    </tr>\n    <tr>\n      <th>2</th>\n      <td>Alice Springs</td>\n      <td>-23.70</td>\n      <td>133.88</td>\n      <td>6</td>\n      <td>0</td>\n      <td>100.40</td>\n      <td>9.17</td>\n      <td>AU</td>\n      <td>2020-11-04 05:35:48</td>\n    </tr>\n    <tr>\n      <th>3</th>\n      <td>Hasaki</td>\n      <td>35.73</td>\n      <td>140.83</td>\n      <td>30</td>\n      <td>20</td>\n      <td>66.00</td>\n      <td>12.75</td>\n      <td>JP</td>\n      <td>2020-11-04 05:38:07</td>\n    </tr>\n    <tr>\n      <th>4</th>\n      <td>Vao</td>\n      <td>-22.67</td>\n      <td>167.48</td>\n      <td>85</td>\n      <td>100</td>\n      <td>73.54</td>\n      <td>3.36</td>\n      <td>NC</td>\n      <td>2020-11-04 05:38:08</td>\n    </tr>\n  </tbody>\n</table>\n</div>"
     },
     "execution_count": 126,
     "metadata": {},
     "output_type": "execute_result"
    }
   ],
   "source": [
    "city_data_df = pd.DataFrame(city_data)\n",
    "temp = city_data_df\n",
    "city_data_df.head()"
   ],
   "metadata": {
    "collapsed": false,
    "pycharm": {
     "name": "#%%\n"
    }
   }
  },
  {
   "cell_type": "code",
   "execution_count": 129,
   "outputs": [],
   "source": [
    "# Re-order the columns\n",
    "new_order = ['City', 'Country', 'Date', 'Latitude', 'Longitude',\n",
    "             'Max Temperature', 'Humidity', 'Cloudiness','Winds']"
   ],
   "metadata": {
    "collapsed": false,
    "pycharm": {
     "name": "#%%\n"
    }
   }
  },
  {
   "cell_type": "code",
   "execution_count": 131,
   "outputs": [
    {
     "data": {
      "text/plain": "              City Country                 Date  Latitude  Longitude  \\\n0         Takoradi      GH  2020-11-04 05:38:07      4.88      -1.76   \n1       Bredasdorp      ZA  2020-11-04 05:38:07    -34.53      20.04   \n2    Alice Springs      AU  2020-11-04 05:35:48    -23.70     133.88   \n3           Hasaki      JP  2020-11-04 05:38:07     35.73     140.83   \n4              Vao      NC  2020-11-04 05:38:08    -22.67     167.48   \n..             ...     ...                  ...       ...        ...   \n538        Itarema      BR  2020-11-04 05:39:57     -2.92     -39.92   \n539        Kisanga      TZ  2020-11-04 05:40:27     -7.44      37.70   \n540         Laguna      US  2020-11-04 05:40:27     38.42    -121.42   \n541        Dudinka      RU  2020-11-04 05:40:27     69.41      86.18   \n542    Dicabisagan      PH  2020-11-04 05:40:28     17.08     122.42   \n\n     Max Temperature  Humidity  Cloudiness  Winds  \n0              78.35        86          50   4.61  \n1              66.20        93          45   6.93  \n2             100.40         6           0   9.17  \n3              66.00        30          20  12.75  \n4              73.54        85         100   3.36  \n..               ...       ...         ...    ...  \n538            78.60        82          85   8.61  \n539            80.83        59          62   5.35  \n540            55.99        58           1   4.70  \n541            -7.60        83           0   4.47  \n542            77.56        84          98  13.00  \n\n[543 rows x 9 columns]",
      "text/html": "<div>\n<style scoped>\n    .dataframe tbody tr th:only-of-type {\n        vertical-align: middle;\n    }\n\n    .dataframe tbody tr th {\n        vertical-align: top;\n    }\n\n    .dataframe thead th {\n        text-align: right;\n    }\n</style>\n<table border=\"1\" class=\"dataframe\">\n  <thead>\n    <tr style=\"text-align: right;\">\n      <th></th>\n      <th>City</th>\n      <th>Country</th>\n      <th>Date</th>\n      <th>Latitude</th>\n      <th>Longitude</th>\n      <th>Max Temperature</th>\n      <th>Humidity</th>\n      <th>Cloudiness</th>\n      <th>Winds</th>\n    </tr>\n  </thead>\n  <tbody>\n    <tr>\n      <th>0</th>\n      <td>Takoradi</td>\n      <td>GH</td>\n      <td>2020-11-04 05:38:07</td>\n      <td>4.88</td>\n      <td>-1.76</td>\n      <td>78.35</td>\n      <td>86</td>\n      <td>50</td>\n      <td>4.61</td>\n    </tr>\n    <tr>\n      <th>1</th>\n      <td>Bredasdorp</td>\n      <td>ZA</td>\n      <td>2020-11-04 05:38:07</td>\n      <td>-34.53</td>\n      <td>20.04</td>\n      <td>66.20</td>\n      <td>93</td>\n      <td>45</td>\n      <td>6.93</td>\n    </tr>\n    <tr>\n      <th>2</th>\n      <td>Alice Springs</td>\n      <td>AU</td>\n      <td>2020-11-04 05:35:48</td>\n      <td>-23.70</td>\n      <td>133.88</td>\n      <td>100.40</td>\n      <td>6</td>\n      <td>0</td>\n      <td>9.17</td>\n    </tr>\n    <tr>\n      <th>3</th>\n      <td>Hasaki</td>\n      <td>JP</td>\n      <td>2020-11-04 05:38:07</td>\n      <td>35.73</td>\n      <td>140.83</td>\n      <td>66.00</td>\n      <td>30</td>\n      <td>20</td>\n      <td>12.75</td>\n    </tr>\n    <tr>\n      <th>4</th>\n      <td>Vao</td>\n      <td>NC</td>\n      <td>2020-11-04 05:38:08</td>\n      <td>-22.67</td>\n      <td>167.48</td>\n      <td>73.54</td>\n      <td>85</td>\n      <td>100</td>\n      <td>3.36</td>\n    </tr>\n    <tr>\n      <th>...</th>\n      <td>...</td>\n      <td>...</td>\n      <td>...</td>\n      <td>...</td>\n      <td>...</td>\n      <td>...</td>\n      <td>...</td>\n      <td>...</td>\n      <td>...</td>\n    </tr>\n    <tr>\n      <th>538</th>\n      <td>Itarema</td>\n      <td>BR</td>\n      <td>2020-11-04 05:39:57</td>\n      <td>-2.92</td>\n      <td>-39.92</td>\n      <td>78.60</td>\n      <td>82</td>\n      <td>85</td>\n      <td>8.61</td>\n    </tr>\n    <tr>\n      <th>539</th>\n      <td>Kisanga</td>\n      <td>TZ</td>\n      <td>2020-11-04 05:40:27</td>\n      <td>-7.44</td>\n      <td>37.70</td>\n      <td>80.83</td>\n      <td>59</td>\n      <td>62</td>\n      <td>5.35</td>\n    </tr>\n    <tr>\n      <th>540</th>\n      <td>Laguna</td>\n      <td>US</td>\n      <td>2020-11-04 05:40:27</td>\n      <td>38.42</td>\n      <td>-121.42</td>\n      <td>55.99</td>\n      <td>58</td>\n      <td>1</td>\n      <td>4.70</td>\n    </tr>\n    <tr>\n      <th>541</th>\n      <td>Dudinka</td>\n      <td>RU</td>\n      <td>2020-11-04 05:40:27</td>\n      <td>69.41</td>\n      <td>86.18</td>\n      <td>-7.60</td>\n      <td>83</td>\n      <td>0</td>\n      <td>4.47</td>\n    </tr>\n    <tr>\n      <th>542</th>\n      <td>Dicabisagan</td>\n      <td>PH</td>\n      <td>2020-11-04 05:40:28</td>\n      <td>17.08</td>\n      <td>122.42</td>\n      <td>77.56</td>\n      <td>84</td>\n      <td>98</td>\n      <td>13.00</td>\n    </tr>\n  </tbody>\n</table>\n<p>543 rows × 9 columns</p>\n</div>"
     },
     "execution_count": 131,
     "metadata": {},
     "output_type": "execute_result"
    }
   ],
   "source": [
    "city_data_df = city_data_df[new_order]\n",
    "city_data_df"
   ],
   "metadata": {
    "collapsed": false,
    "pycharm": {
     "name": "#%%\n"
    }
   }
  },
  {
   "cell_type": "code",
   "execution_count": 133,
   "outputs": [],
   "source": [
    "# Create an output file\n",
    "output_file = 'weather_data/cities.csv'\n",
    "\n",
    "# Export to csv\n",
    "city_data_df.to_csv(output_file,index_label='City_ID')\n"
   ],
   "metadata": {
    "collapsed": false,
    "pycharm": {
     "name": "#%%\n"
    }
   }
  },
  {
   "cell_type": "code",
   "execution_count": null,
   "outputs": [],
   "source": [
    "\n"
   ],
   "metadata": {
    "collapsed": false,
    "pycharm": {
     "name": "#%%\n"
    }
   }
  },
  {
   "cell_type": "code",
   "execution_count": null,
   "outputs": [],
   "source": [
    "\n"
   ],
   "metadata": {
    "collapsed": false,
    "pycharm": {
     "name": "#%%\n"
    }
   }
  },
  {
   "cell_type": "code",
   "execution_count": null,
   "outputs": [],
   "source": [
    "\n"
   ],
   "metadata": {
    "collapsed": false,
    "pycharm": {
     "name": "#%%\n"
    }
   }
  },
  {
   "cell_type": "code",
   "execution_count": null,
   "outputs": [],
   "source": [],
   "metadata": {
    "collapsed": false,
    "pycharm": {
     "name": "#%%\n"
    }
   }
  },
  {
   "cell_type": "code",
   "execution_count": null,
   "outputs": [],
   "source": [],
   "metadata": {
    "collapsed": false,
    "pycharm": {
     "name": "#%%\n"
    }
   }
  },
  {
   "cell_type": "code",
   "execution_count": null,
   "outputs": [],
   "source": [],
   "metadata": {
    "collapsed": false,
    "pycharm": {
     "name": "#%%\n"
    }
   }
  },
  {
   "cell_type": "code",
   "execution_count": null,
   "outputs": [],
   "source": [],
   "metadata": {
    "collapsed": false,
    "pycharm": {
     "name": "#%%\n"
    }
   }
  },
  {
   "cell_type": "code",
   "execution_count": null,
   "outputs": [],
   "source": [],
   "metadata": {
    "collapsed": false,
    "pycharm": {
     "name": "#%%\n"
    }
   }
  },
  {
   "cell_type": "code",
   "execution_count": null,
   "outputs": [],
   "source": [],
   "metadata": {
    "collapsed": false,
    "pycharm": {
     "name": "#%%\n"
    }
   }
  }
 ],
 "metadata": {
  "kernelspec": {
   "display_name": "Python 3",
   "language": "python",
   "name": "python3"
  },
  "language_info": {
   "codemirror_mode": {
    "name": "ipython",
    "version": 2
   },
   "file_extension": ".py",
   "mimetype": "text/x-python",
   "name": "python",
   "nbconvert_exporter": "python",
   "pygments_lexer": "ipython2",
   "version": "2.7.6"
  }
 },
 "nbformat": 4,
 "nbformat_minor": 0
}