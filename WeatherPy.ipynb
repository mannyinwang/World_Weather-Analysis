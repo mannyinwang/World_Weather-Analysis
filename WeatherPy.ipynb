{
 "cells": [
  {
   "cell_type": "code",
   "execution_count": 1,
   "metadata": {},
   "outputs": [
    {
     "ename": "ModuleNotFoundError",
     "evalue": "No module named 'pandas'",
     "output_type": "error",
     "traceback": [
      "\u001B[1;31m---------------------------------------------------------------------------\u001B[0m",
      "\u001B[1;31mModuleNotFoundError\u001B[0m                       Traceback (most recent call last)",
      "\u001B[1;32m<ipython-input-1-1847c98805aa>\u001B[0m in \u001B[0;36m<module>\u001B[1;34m\u001B[0m\n\u001B[0;32m      1\u001B[0m \u001B[1;31m# Import the dependencies\u001B[0m\u001B[1;33m\u001B[0m\u001B[1;33m\u001B[0m\u001B[1;33m\u001B[0m\u001B[0m\n\u001B[1;32m----> 2\u001B[1;33m \u001B[1;32mimport\u001B[0m \u001B[0mpandas\u001B[0m \u001B[1;32mas\u001B[0m \u001B[0mpd\u001B[0m\u001B[1;33m\u001B[0m\u001B[1;33m\u001B[0m\u001B[0m\n\u001B[0m\u001B[0;32m      3\u001B[0m \u001B[1;32mimport\u001B[0m \u001B[0mmatplotlib\u001B[0m\u001B[1;33m.\u001B[0m\u001B[0mpyplot\u001B[0m \u001B[1;32mas\u001B[0m \u001B[0mplt\u001B[0m\u001B[1;33m\u001B[0m\u001B[1;33m\u001B[0m\u001B[0m\n\u001B[0;32m      4\u001B[0m \u001B[1;32mimport\u001B[0m \u001B[0mnumpy\u001B[0m \u001B[1;32mas\u001B[0m \u001B[0mnp\u001B[0m\u001B[1;33m\u001B[0m\u001B[1;33m\u001B[0m\u001B[0m\n\u001B[0;32m      5\u001B[0m \u001B[1;32mfrom\u001B[0m \u001B[0mcitipy\u001B[0m \u001B[1;32mimport\u001B[0m \u001B[0mcitipy\u001B[0m\u001B[1;33m\u001B[0m\u001B[1;33m\u001B[0m\u001B[0m\n",
      "\u001B[1;31mModuleNotFoundError\u001B[0m: No module named 'pandas'"
     ]
    }
   ],
   "source": [
    "# Import the dependencies\n",
    "import pandas as pd\n",
    "import matplotlib.pyplot as plt\n",
    "import numpy as np\n",
    "from citipy import citipy\n"
   ]
  },
  {
   "cell_type": "code",
   "execution_count": null,
   "metadata": {
    "pycharm": {
     "name": "#%%\n"
    }
   },
   "outputs": [],
   "source": [
    "# Create a set of random latitudes and longitude combinations\n",
    "lats = np.random.uniform(-90.000,90.000,1500)\n",
    "longs = np.random.uniform(-180.000,180.000,1500)"
   ]
  },
  {
   "cell_type": "code",
   "execution_count": null,
   "metadata": {
    "pycharm": {
     "name": "#%%\n"
    }
   },
   "outputs": [],
   "source": [
    "# Combine both arrays\n",
    "lats_longs = zip(lats,longs)\n",
    "lats_longs\n"
   ]
  },
  {
   "cell_type": "code",
   "execution_count": null,
   "metadata": {
    "pycharm": {
     "name": "#%%\n"
    }
   },
   "outputs": [],
   "source": [
    "# Add the latitudes and longitudes to a list.\n",
    "coordinates = list(lats_longs)\n"
   ]
  },
  {
   "cell_type": "code",
   "execution_count": null,
   "metadata": {
    "pycharm": {
     "name": "#%%\n"
    }
   },
   "outputs": [],
   "source": [
    "# Use the tuple() function to display the latitude and longitude combinations.\n",
    "# city_name and country_code can be used to get the cities and their country code\n",
    "# for cord in coordinates:\n",
    "#     print(citipy.nearest_city(cord[0],cord[1]).city_name,\n",
    "#           citipy.nearest_city(cord[0],cord[1]).country_code)"
   ]
  },
  {
   "cell_type": "code",
   "execution_count": null,
   "metadata": {
    "pycharm": {
     "name": "#%%\n"
    }
   },
   "outputs": [],
   "source": [
    "# Creating a list for holding cities\n",
    "cities = []\n",
    "for cord in coordinates:\n",
    "    city = citipy.nearest_city(cord[0],cord[1]).city_name\n",
    "\n",
    "    # Check for duplicates\n",
    "    if city not in cities:\n",
    "        cities.append(city)\n",
    "\n",
    "# Get length of city list\n",
    "len(cities)"
   ]
  },
  {
   "cell_type": "code",
   "execution_count": null,
   "metadata": {
    "pycharm": {
     "name": "#%%\n"
    }
   },
   "outputs": [],
   "source": [
    "# Import requests library\n",
    "import requests\n",
    "\n",
    "# Import Weather API Key\n",
    "from config import weather_api_key\n",
    "\n",
    "# Import datetime\n",
    "from datetime import datetime"
   ]
  },
  {
   "cell_type": "code",
   "execution_count": null,
   "metadata": {
    "pycharm": {
     "name": "#%%\n"
    }
   },
   "outputs": [],
   "source": [
    "# Starting URL for Weather Map API Call.\n",
    "url = 'http://api.openweathermap.org/data/2.5/weather?units=Imperial&appid=' + weather_api_key\n",
    "print(url)"
   ]
  },
  {
   "cell_type": "code",
   "execution_count": null,
   "metadata": {
    "pycharm": {
     "name": "#%%\n"
    }
   },
   "outputs": [],
   "source": [
    "# Create an endpoint URL for a city.\n",
    "city_url = url + \"&q=\" + \"Boston\"\n",
    "print(city_url)"
   ]
  },
  {
   "cell_type": "code",
   "execution_count": null,
   "metadata": {
    "pycharm": {
     "name": "#%%\n"
    }
   },
   "outputs": [],
   "source": [
    "# Make a 'Get' request for the city weather.\n",
    "city_weather = requests.get(city_url)\n",
    "city_weather"
   ]
  },
  {
   "cell_type": "code",
   "execution_count": null,
   "metadata": {
    "pycharm": {
     "name": "#%%\n"
    }
   },
   "outputs": [],
   "source": [
    "# Get JSON text of the Get request\n",
    "city_weather.json()"
   ]
  },
  {
   "cell_type": "code",
   "execution_count": null,
   "metadata": {
    "pycharm": {
     "name": "#%%\n"
    }
   },
   "outputs": [],
   "source": [
    "# Create an endpoint URL for a city\n",
    "city_url = url + \"&q=\" + \"Boston\"\n",
    "city_weather = requests.get(city_url)\n",
    "if city_weather.status_code == 200:\n",
    "    print(f'City Weather found')\n",
    "else:\n",
    "    print(f'City Weather not found.')"
   ]
  },
  {
   "cell_type": "code",
   "execution_count": null,
   "metadata": {
    "pycharm": {
     "name": "#%%\n"
    }
   },
   "outputs": [],
   "source": [
    "# Get the JSON\n",
    "boston_data = city_weather.json()\n",
    "country = boston_data['sys']['country']\n",
    "city = boston_data['name']\n",
    "lat = boston_data['coord']['lat']\n",
    "lng = boston_data['coord']['lon']\n",
    "max_temp = boston_data['main']['temp_max']\n",
    "humidity = boston_data['main']['humidity']\n",
    "clouds = boston_data['clouds']['all']\n",
    "wind = boston_data['wind']['speed']"
   ]
  },
  {
   "cell_type": "code",
   "execution_count": null,
   "metadata": {
    "pycharm": {
     "name": "#%%\n"
    }
   },
   "outputs": [],
   "source": [
    "print(country, city, lat, lng, max_temp, humidity, clouds, wind)"
   ]
  },
  {
   "cell_type": "code",
   "execution_count": null,
   "metadata": {
    "pycharm": {
     "name": "#%%\n"
    }
   },
   "outputs": [],
   "source": [
    "# Get the date from the weather\n",
    "date = boston_data['dt']\n",
    "\n",
    "# convert UTC date to date format year, month, day, hour, minute, second\n",
    "# date = datetime.utcfromtimestamp(date)\n",
    "\n",
    "date = datetime.utcfromtimestamp(date).strftime('%Y-%m-%d %H:%M:%S')\n",
    "\n",
    "# date"
   ]
  },
  {
   "cell_type": "code",
   "execution_count": null,
   "metadata": {
    "pycharm": {
     "name": "#%%\n"
    }
   },
   "outputs": [],
   "source": [
    "# Create an empty ;list to hold the data\n",
    "city_data = []\n",
    "# Print the beginning of the logging.\n",
    "print(\"Beginning Data Retrieval     \")\n",
    "print(\"-----------------------------\")\n",
    "\n",
    "# Create counter\n",
    "record_count = 1\n",
    "set_count = 1\n",
    "\n",
    "# loop through all the cities\n",
    "for i, city in enumerate(cities):\n",
    "\n",
    "    # Grouping cities in sets of 50 for logging\n",
    "    if (i % 50 == 0 and i >= 50 ):\n",
    "        set_count += 1\n",
    "        record_count = 1\n",
    "\n",
    "    city_url = url + \"&q=\" + city.replace(\" \", \"+\")\n",
    "\n",
    "    # Logging the URL, record number, set number and city\n",
    "    print(f'Processing record {record_count} of Set {set_count} | {city}')\n",
    "    record_count += 1\n",
    "\n",
    "    try:\n",
    "        city_weather = requests.get(city_url).json()\n",
    "        \n",
    "        # Parse out the needed data\n",
    "        city_lat = city_weather['coord']['lat']\n",
    "        city_lng = city_weather['coord']['lon']\n",
    "        city_max_temp = city_weather['main']['temp_max']\n",
    "        city_humidity = city_weather['main']['humidity']\n",
    "        city_clouds = city_weather['clouds']['all']\n",
    "        city_wind = city_weather['wind']['speed']\n",
    "        city_country = city_weather['sys']['country']\n",
    "        city_date = datetime.utcfromtimestamp(city_weather['dt']).strftime('%Y-%m-%d %H:%M:%S')\n",
    "\n",
    "        city_data.append({'City': city.title(),\n",
    "            'Latitude': city_lat,\n",
    "            'Longitude': city_lng,\n",
    "            'Humidity': city_humidity,\n",
    "            'Cloudiness': city_clouds,\n",
    "            'Humidity': city_max_temp,\n",
    "            'Winds': city_wind,\n",
    "            'Country': city_country,\n",
    "            'Date': city_date\n",
    "        })\n",
    "    except:\n",
    "        print(f'The City {city} not Found. Skipping .....')\n",
    "\n",
    "# Indicate that Data Loading is complete.\n",
    "print(\"-----------------------------\")\n",
    "print(\"Data Retrieval Complete      \")\n",
    "print(\"-----------------------------\")"
   ]
  },
  {
   "cell_type": "code",
   "execution_count": null,
   "metadata": {
    "pycharm": {
     "name": "#%%\n"
    }
   },
   "outputs": [],
   "source": [
    "city_data[0]"
   ]
  },
  {
   "cell_type": "code",
   "execution_count": null,
   "metadata": {
    "pycharm": {
     "name": "#%%\n"
    }
   },
   "outputs": [],
   "source": [
    "city_data_df = pd.DataFrame(city_data)\n",
    "temp = city_data_df\n",
    "city_data_df.head()"
   ]
  },
  {
   "cell_type": "code",
   "execution_count": null,
   "metadata": {
    "pycharm": {
     "name": "#%%\n"
    }
   },
   "outputs": [],
   "source": [
    "# Re-order the columns\n",
    "new_order = ['City', 'Country', 'Date', 'Latitude', 'Longitude',\n",
    "             'Humidity', 'Humidity', 'Cloudiness','Winds']"
   ]
  },
  {
   "cell_type": "code",
   "execution_count": null,
   "metadata": {
    "pycharm": {
     "name": "#%%\n"
    }
   },
   "outputs": [],
   "source": [
    "city_data_df = city_data_df[new_order]\n",
    "city_data_df"
   ]
  },
  {
   "cell_type": "code",
   "execution_count": null,
   "metadata": {
    "pycharm": {
     "name": "#%%\n"
    }
   },
   "outputs": [],
   "source": [
    "# Create an output file\n",
    "output_file = 'weather_data/cities.csv'\n",
    "\n",
    "# Export to csv\n",
    "city_data_df.to_csv(output_file,index_label='City_ID')\n"
   ]
  },
  {
   "cell_type": "markdown",
   "metadata": {
    "pycharm": {
     "name": "#%% md\n"
    }
   },
   "source": [
    "### Plotting the Latitude vs Temperature\n"
   ]
  },
  {
   "cell_type": "code",
   "execution_count": null,
   "metadata": {
    "pycharm": {
     "name": "#%%\n"
    }
   },
   "outputs": [],
   "source": [
    "# Getting Data for plotting\n",
    "lat = city_data_df['Latitude']\n",
    "lng = city_data_df['Longitude']\n",
    "max_temp = city_data_df['Humidity']\n",
    "humidity = city_data_df['Humidity']\n",
    "cloudiness = city_data_df['Cloudiness']\n",
    "wind_speed = city_data_df['Winds']"
   ]
  },
  {
   "cell_type": "code",
   "execution_count": null,
   "metadata": {
    "pycharm": {
     "name": "#%%\n"
    }
   },
   "outputs": [],
   "source": [
    "# Import the time module\n",
    "import time\n",
    "\n",
    "today = time.time()\n",
    "today"
   ]
  },
  {
   "cell_type": "code",
   "execution_count": null,
   "metadata": {
    "pycharm": {
     "name": "#%%\n"
    }
   },
   "outputs": [],
   "source": [
    "# Building the scatter plot\n",
    "plt.title(f'City Latitude vs Max. Temperature (F) {time.strftime(\"%x\")}')\n",
    "plt.scatter(lat, max_temp,\n",
    "            edgecolors='black', alpha=0.8, marker='o',\n",
    "            linewidths=1, label='Cities')\n",
    "plt.xlabel('Latitude')\n",
    "plt.ylabel('Humidity (F)')\n",
    "plt.grid(True)\n",
    "\n",
    "# Save the figure\n",
    "plt.savefig('weather_data/Fig1.png')\n",
    "\n",
    "# Show plot\n",
    "plt.show()\n"
   ]
  },
  {
   "cell_type": "markdown",
   "metadata": {
    "pycharm": {
     "name": "#%% md\n"
    }
   },
   "source": [
    "### Plotting the Latitude vs Humidity"
   ]
  },
  {
   "cell_type": "code",
   "execution_count": null,
   "metadata": {
    "pycharm": {
     "name": "#%%\n"
    }
   },
   "outputs": [],
   "source": [
    "# Building the scatter plot\n",
    "plt.title(f'City Latitude vs Humidity (%) {time.strftime(\"%x\")}')\n",
    "plt.scatter(lat, humidity,\n",
    "            edgecolors='black', alpha=0.8, marker='o',\n",
    "            linewidths=1, label='Cities')\n",
    "plt.xlabel('Latitude')\n",
    "plt.ylabel('Humidity (%)')\n",
    "plt.grid(True)\n",
    "\n",
    "# Save the figure\n",
    "plt.savefig('weather_data/Fig2.png')\n",
    "\n",
    "# Show plot\n",
    "plt.show()\n",
    "\n"
   ]
  },
  {
   "cell_type": "markdown",
   "metadata": {
    "pycharm": {
     "name": "#%% md\n"
    }
   },
   "source": [
    "### Plotting the Latitude vs Cloudiness"
   ]
  },
  {
   "cell_type": "code",
   "execution_count": null,
   "metadata": {
    "pycharm": {
     "name": "#%%\n"
    }
   },
   "outputs": [],
   "source": [
    "plt.subplot()\n",
    "plt.title(f'City Latitude vs Cloudiness (%) {time.strftime(\"%x\")}')\n",
    "plt.scatter(lat, cloudiness,\n",
    "            edgecolors='black', alpha=0.8, marker='o',\n",
    "            linewidths=1, label='Cities')\n",
    "plt.xlabel('Latitude')\n",
    "plt.ylabel('Cloudiness (%)')\n",
    "plt.grid(True)\n",
    "\n",
    "# Save the figure\n",
    "plt.savefig('weather_data/Fig3.png')\n",
    "\n",
    "# Show plot\n",
    "plt.show()\n"
   ]
  },
  {
   "cell_type": "code",
   "execution_count": null,
   "metadata": {
    "pycharm": {
     "name": "#%%\n"
    }
   },
   "outputs": [],
   "source": [
    "# Importing the stats module\n",
    "from scipy.stats import linregress"
   ]
  },
  {
   "cell_type": "markdown",
   "metadata": {
    "pycharm": {
     "name": "#%% md\n"
    }
   },
   "source": [
    "### Plotting the Latitude vs Cloudiness"
   ]
  },
  {
   "cell_type": "code",
   "execution_count": null,
   "metadata": {
    "pycharm": {
     "name": "#%%\n"
    }
   },
   "outputs": [],
   "source": [
    "plt.title(f'City Latitude vs Wind Speed(%) {time.strftime(\"%x\")}')\n",
    "plt.scatter(lat, wind_speed,\n",
    "            edgecolors='black', alpha=0.8, marker='o',\n",
    "            linewidths=1, label='Cities')\n",
    "plt.xlabel('Latitude')\n",
    "plt.ylabel('Wind Speed (mph)')\n",
    "plt.grid(True)\n",
    "\n",
    "# Save the figure\n",
    "plt.savefig('weather_data/Fig4.png')\n",
    "\n",
    "# Show plot\n",
    "plt.show()\n"
   ]
  },
  {
   "cell_type": "markdown",
   "metadata": {},
   "source": [
    "## Custom Functions for Regression and the Plots."
   ]
  },
  {
   "cell_type": "code",
   "execution_count": null,
   "metadata": {
    "pycharm": {
     "name": "#%%\n"
    }
   },
   "outputs": [],
   "source": [
    "# Function to calculate the linear regression and and get the equation of the line.\n",
    "# Also get the the independent variable for each dependent variable\n",
    "def linear_regression_values(x,y):\n",
    "    (slope, intercept, r_value, p_value, std_err) = linregress(x, y)\n",
    "    temp_eq_line = f'y = {round(slope, 2)}(x) + {round(intercept,2)}'\n",
    "    regression_list = [i*slope + intercept for i in x]\n",
    "    return r_value\n",
    "\n",
    "def linear_regression_plot(x,y, plot_title, y_label, text_coordinates):\n",
    "\n",
    "    # Run regression on the data\n",
    "    (slope, intercept, r_value, p_value, std_err) = linregress(x, y)\n",
    "    regression_list = [i*slope + intercept for i in x]\n",
    "    temp_eq_line = f'y = {round(slope, 2)}(x) + {round(intercept,2)}'\n",
    "\n",
    "    # Create the scatter plot and the Regression line plot for the data\n",
    "    plt.title(plot_title, fontsize=15)\n",
    "    plt.scatter(x,y, edgecolors='black')\n",
    "    plt.plot(x,regression_list, color='red')\n",
    "\n",
    "    # Labels for plot\n",
    "    plt.xlabel('Latitude', fontsize=12)\n",
    "    plt.ylabel(y_label, fontsize=12)\n",
    "\n",
    "    # Annotate the graph by putting the equation of line\n",
    "    plt.annotate(temp_eq_line,text_coordinates, fontsize=15, color='r')\n",
    "    plt.show()"
   ]
  },
  {
   "cell_type": "markdown",
   "metadata": {
    "pycharm": {
     "name": "#%% md\n"
    }
   },
   "source": [
    "## Correlation between Latitude and Temperature."
   ]
  },
  {
   "cell_type": "code",
   "execution_count": null,
   "metadata": {
    "pycharm": {
     "name": "#%%\n"
    }
   },
   "outputs": [],
   "source": [
    "city_data_df.head()"
   ]
  },
  {
   "cell_type": "code",
   "execution_count": null,
   "metadata": {
    "pycharm": {
     "name": "#%%\n"
    }
   },
   "outputs": [],
   "source": [
    "# Getting the northern and southern hemisphere\n",
    "north_hemisphere = city_data_df.loc[city_data_df['Latitude'] >= 0]\n",
    "south_hemisphere = city_data_df.loc[city_data_df['Latitude'] < 0]"
   ]
  },
  {
   "cell_type": "code",
   "execution_count": null,
   "metadata": {
    "pycharm": {
     "name": "#%%\n"
    }
   },
   "outputs": [],
   "source": [
    "# Linear regression on the Northern Hemisphere\n",
    "linear_regression_plot(north_hemisphere['Latitude'], north_hemisphere['Humidity'],\n",
    "                       'Linear Regression on the Northern Hemisphere for Maximum Temperature',\n",
    "                       text_coordinates=(10,0), y_label='Maximum Temperature')"
   ]
  },
  {
   "cell_type": "code",
   "execution_count": null,
   "metadata": {
    "pycharm": {
     "name": "#%%\n"
    }
   },
   "outputs": [],
   "source": [
    "# Linear regression on the Northern Hemisphere\n",
    "linear_regression_plot(south_hemisphere['Latitude'], south_hemisphere['Humidity'],\n",
    "                       'Linear Regression on the Southern Hemisphere for Maximum Temperature',\n",
    "                       text_coordinates=(-55,100), y_label='Maximum Temperature')\n"
   ]
  },
  {
   "cell_type": "code",
   "execution_count": null,
   "metadata": {
    "pycharm": {
     "name": "#%%\n"
    }
   },
   "outputs": [],
   "source": [
    "# R values of the regression\n",
    "north_r_value = linear_regression_values(north_hemisphere['Latitude'], north_hemisphere['Humidity'])\n",
    "south_r_value = linear_regression_values(south_hemisphere['Latitude'], south_hemisphere['Humidity'])\n",
    "north_r_value,south_r_value"
   ]
  },
  {
   "cell_type": "markdown",
   "metadata": {
    "pycharm": {
     "name": "#%% md\n"
    }
   },
   "source": [
    "## Correlation between Latitude and Percent Humidity."
   ]
  },
  {
   "cell_type": "code",
   "execution_count": null,
   "metadata": {
    "pycharm": {
     "name": "#%%\n"
    }
   },
   "outputs": [],
   "source": [
    "# Linear regression on the Northern Hemisphere\n",
    "linear_regression_plot(north_hemisphere['Latitude'], north_hemisphere['Humidity'],\n",
    "                       'Linear Regression on the Northern Hemisphere for % Humidity',\n",
    "                       text_coordinates=(40,0), y_label='% Humidity')"
   ]
  },
  {
   "cell_type": "code",
   "execution_count": null,
   "metadata": {
    "pycharm": {
     "name": "#%%\n"
    }
   },
   "outputs": [],
   "source": [
    "# Linear regression on the Northern Hemisphere\n",
    "linear_regression_plot(south_hemisphere['Latitude'], south_hemisphere['Humidity'],\n",
    "                       'Linear Regression on the Southern Hemisphere for % Humidity',\n",
    "                       text_coordinates=(-55,10), y_label='% Humidity')"
   ]
  },
  {
   "cell_type": "code",
   "execution_count": null,
   "metadata": {
    "pycharm": {
     "name": "#%%\n"
    }
   },
   "outputs": [],
   "source": [
    "# R values of the regression\n",
    "north_humidity_r_value = linear_regression_values(north_hemisphere['Latitude'], north_hemisphere['Humidity'])\n",
    "south_humidity_r_value = linear_regression_values(south_hemisphere['Latitude'], south_hemisphere['Humidity'])\n",
    "north_humidity_r_value,south_humidity_r_value"
   ]
  },
  {
   "cell_type": "markdown",
   "metadata": {},
   "source": [
    "## Correlation between Latitude and Percent Cloudiness."
   ]
  },
  {
   "cell_type": "code",
   "execution_count": null,
   "metadata": {
    "pycharm": {
     "name": "#%%\n"
    }
   },
   "outputs": [],
   "source": [
    "# Linear regression on the Northern Hemisphere\n",
    "linear_regression_plot(north_hemisphere['Latitude'], north_hemisphere['Cloudiness'],\n",
    "                       'Linear Regression on the Northern Hemisphere for % Cloudiness',\n",
    "                       text_coordinates=(10,32), y_label='% Cloudiness')"
   ]
  },
  {
   "cell_type": "code",
   "execution_count": null,
   "metadata": {
    "pycharm": {
     "name": "#%%\n"
    }
   },
   "outputs": [],
   "source": [
    "# Linear regression on the Northern Hemisphere\n",
    "linear_regression_plot(south_hemisphere['Latitude'], south_hemisphere['Cloudiness'],\n",
    "                       'Linear Regression on the Southern Hemisphere for % Cloudiness',\n",
    "                       text_coordinates=(-55,17), y_label='% Cloudiness')"
   ]
  },
  {
   "cell_type": "code",
   "execution_count": null,
   "metadata": {
    "pycharm": {
     "name": "#%%\n"
    }
   },
   "outputs": [],
   "source": [
    "# R values of the regression\n",
    "north_Cloudiness_r_value = linear_regression_values(north_hemisphere['Latitude'], north_hemisphere['Cloudiness'])\n",
    "south_Cloudiness_r_value = linear_regression_values(south_hemisphere['Latitude'], south_hemisphere['Cloudiness'])\n",
    "north_Cloudiness_r_value,south_Cloudiness_r_value"
   ]
  },
  {
   "cell_type": "markdown",
   "metadata": {},
   "source": [
    "## Correlation between Latitude and Percent Winds."
   ]
  },
  {
   "cell_type": "code",
   "execution_count": null,
   "metadata": {
    "pycharm": {
     "name": "#%%\n"
    }
   },
   "outputs": [],
   "source": [
    "# Linear regression on the Northern Hemisphere\n",
    "linear_regression_plot(north_hemisphere['Latitude'], north_hemisphere['Winds'],\n",
    "                       'Linear Regression on the Northern Hemisphere for Wind Speed',\n",
    "                       text_coordinates=(10,40), y_label='Wind Speed (mph)')"
   ]
  },
  {
   "cell_type": "code",
   "execution_count": null,
   "metadata": {
    "pycharm": {
     "name": "#%%\n"
    }
   },
   "outputs": [],
   "source": [
    "# Linear regression on the Northern Hemisphere\n",
    "linear_regression_plot(south_hemisphere['Latitude'], south_hemisphere['Winds'],\n",
    "                       'Linear Regression on the Southern Hemisphere for Wind Speed',\n",
    "                       text_coordinates=(-55,17), y_label='Wind Speed (mph)')"
   ]
  },
  {
   "cell_type": "code",
   "execution_count": null,
   "metadata": {
    "pycharm": {
     "name": "#%%\n"
    }
   },
   "outputs": [],
   "source": [
    "# R values of the regression\n",
    "north_Winds_r_value = linear_regression_values(north_hemisphere['Latitude'], north_hemisphere['Winds'])\n",
    "south_Winds_r_value = linear_regression_values(south_hemisphere['Latitude'], south_hemisphere['Winds'])\n",
    "north_Winds_r_value,south_Winds_r_value\n"
   ]
  },
  {
   "cell_type": "code",
   "execution_count": null,
   "metadata": {
    "pycharm": {
     "name": "#%%\n"
    }
   },
   "outputs": [],
   "source": [
    "from test import api_key"
   ]
  },
  {
   "cell_type": "code",
   "execution_count": null,
   "metadata": {
    "pycharm": {
     "name": "#%%\n"
    }
   },
   "outputs": [],
   "source": [
    "api_key\n"
   ]
  },
  {
   "cell_type": "code",
   "execution_count": null,
   "metadata": {
    "pycharm": {
     "name": "#%%\n"
    }
   },
   "outputs": [],
   "source": []
  },
  {
   "cell_type": "code",
   "execution_count": null,
   "metadata": {
    "pycharm": {
     "name": "#%%\n"
    }
   },
   "outputs": [],
   "source": [
    "\n",
    "#%"
   ]
  }
 ],
 "metadata": {
  "kernelspec": {
   "display_name": "berkConda",
   "language": "python",
   "name": "berkconda"
  },
  "language_info": {
   "codemirror_mode": {
    "name": "ipython",
    "version": 3
   },
   "file_extension": ".py",
   "mimetype": "text/x-python",
   "name": "python",
   "nbconvert_exporter": "python",
   "pygments_lexer": "ipython3",
   "version": "3.8.5"
  }
 },
 "nbformat": 4,
 "nbformat_minor": 1
}